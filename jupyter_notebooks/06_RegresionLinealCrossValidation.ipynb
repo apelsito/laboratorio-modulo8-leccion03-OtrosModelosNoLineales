{
 "cells": [
  {
   "cell_type": "markdown",
   "metadata": {},
   "source": [
    "# Laboratorio Regresión Lineal\n"
   ]
  },
  {
   "cell_type": "code",
   "execution_count": 3,
   "metadata": {},
   "outputs": [],
   "source": [
    "# Tratamiento de datos\n",
    "# -----------------------------------------------------------------------\n",
    "import pandas as pd\n",
    "import numpy as np\n",
    "\n",
    "# Visualizaciones\n",
    "# -----------------------------------------------------------------------\n",
    "import seaborn as sns\n",
    "import matplotlib.pyplot as plt\n",
    "from sklearn import tree\n",
    "\n",
    "# Para realizar la regresión lineal y la evaluación del modelo\n",
    "# -----------------------------------------------------------------------\n",
    "from sklearn.linear_model import LinearRegression\n",
    "from sklearn.tree import DecisionTreeRegressor, plot_tree\n",
    "from sklearn.ensemble import RandomForestRegressor\n",
    "from sklearn.model_selection import train_test_split,GridSearchCV\n",
    "from sklearn.metrics import r2_score, mean_squared_error, mean_absolute_error\n",
    "\n",
    "\n",
    "from sklearn.model_selection import KFold,LeaveOneOut, cross_val_score\n",
    "\n",
    "\n",
    "from sklearn.preprocessing import StandardScaler\n",
    "\n",
    "from tqdm import tqdm\n",
    "\n",
    "\n",
    "# Ignorar los warnings\n",
    "# -----------------------------------------------------------------------\n",
    "import warnings\n",
    "warnings.filterwarnings('ignore')\n",
    "\n",
    "pd.options.display.float_format = \"{:,.2f}\".format\n",
    "\n",
    "import sys\n",
    "sys.path.append(\"../\")\n",
    "from src.soporte_metricas import (\n",
    "    obtener_metricas\n",
    ")"
   ]
  },
  {
   "cell_type": "markdown",
   "metadata": {},
   "source": [
    "# Vamos a realizar Cross Validation\n",
    "Usando el encoding Target\n",
    "- El objetivo es ver si nuestro modelo puede mejorar al realizar varias iteraciones. de la regresión Lineal."
   ]
  },
  {
   "cell_type": "code",
   "execution_count": 4,
   "metadata": {},
   "outputs": [
    {
     "data": {
      "text/html": [
       "<div>\n",
       "<style scoped>\n",
       "    .dataframe tbody tr th:only-of-type {\n",
       "        vertical-align: middle;\n",
       "    }\n",
       "\n",
       "    .dataframe tbody tr th {\n",
       "        vertical-align: top;\n",
       "    }\n",
       "\n",
       "    .dataframe thead th {\n",
       "        text-align: right;\n",
       "    }\n",
       "</style>\n",
       "<table border=\"1\" class=\"dataframe\">\n",
       "  <thead>\n",
       "    <tr style=\"text-align: right;\">\n",
       "      <th></th>\n",
       "      <th>offerType</th>\n",
       "      <th>vehicleType</th>\n",
       "      <th>fuelType</th>\n",
       "      <th>gearbox</th>\n",
       "      <th>notRepairedDamage</th>\n",
       "      <th>kilometer</th>\n",
       "      <th>price</th>\n",
       "      <th>yearOfRegistration</th>\n",
       "      <th>gama</th>\n",
       "      <th>powerCV_robust_scaler</th>\n",
       "    </tr>\n",
       "  </thead>\n",
       "  <tbody>\n",
       "    <tr>\n",
       "      <th>243820</th>\n",
       "      <td>6,145.40</td>\n",
       "      <td>5,539.81</td>\n",
       "      <td>5,153.38</td>\n",
       "      <td>4,956.84</td>\n",
       "      <td>3,756.20</td>\n",
       "      <td>15,557.50</td>\n",
       "      <td>10,950.00</td>\n",
       "      <td>12,436.82</td>\n",
       "      <td>7,471.21</td>\n",
       "      <td>9,912.23</td>\n",
       "    </tr>\n",
       "  </tbody>\n",
       "</table>\n",
       "</div>"
      ],
      "text/plain": [
       "        offerType  vehicleType  fuelType  gearbox  notRepairedDamage  \\\n",
       "243820   6,145.40     5,539.81  5,153.38 4,956.84           3,756.20   \n",
       "\n",
       "        kilometer     price  yearOfRegistration     gama  \\\n",
       "243820  15,557.50 10,950.00           12,436.82 7,471.21   \n",
       "\n",
       "        powerCV_robust_scaler  \n",
       "243820               9,912.23  "
      ]
     },
     "execution_count": 4,
     "metadata": {},
     "output_type": "execute_result"
    }
   ],
   "source": [
    "df = pd.read_csv(\"../datos/06_autorenew_target_encoded.csv\",index_col=0)\n",
    "df.sample()"
   ]
  },
  {
   "cell_type": "code",
   "execution_count": 5,
   "metadata": {},
   "outputs": [],
   "source": [
    "X = df.drop(columns=\"price\")\n",
    "y = df[[\"price\"]]\n",
    "X_train, X_test, y_train, y_test = train_test_split(X, # Todo menos la Variable Respuesta\n",
    "                                                    y, # La variable Respuesta\n",
    "                                                    train_size=0.7, # Como dividir los datos en este caso 80% train, 20% test\n",
    "                                                    random_state=42, # Semilla, para que lo haga igual para cualquier persona\n",
    "                                                    shuffle=True \n",
    "                                                    )\n"
   ]
  },
  {
   "cell_type": "markdown",
   "metadata": {},
   "source": [
    "# Hagamos el modelo Linear y Recapitulemos"
   ]
  },
  {
   "cell_type": "code",
   "execution_count": 6,
   "metadata": {},
   "outputs": [],
   "source": [
    "modelo_lineal = LinearRegression()\n",
    "modelo_lineal.fit(X_train, y_train)\n",
    "y_pred_test = modelo_lineal.predict(X_test)\n",
    "y_pred_train = modelo_lineal.predict(X_train)"
   ]
  },
  {
   "cell_type": "markdown",
   "metadata": {},
   "source": [
    "# Veamos sus métricas"
   ]
  },
  {
   "cell_type": "code",
   "execution_count": 7,
   "metadata": {},
   "outputs": [
    {
     "data": {
      "text/html": [
       "<div>\n",
       "<style scoped>\n",
       "    .dataframe tbody tr th:only-of-type {\n",
       "        vertical-align: middle;\n",
       "    }\n",
       "\n",
       "    .dataframe tbody tr th {\n",
       "        vertical-align: top;\n",
       "    }\n",
       "\n",
       "    .dataframe thead th {\n",
       "        text-align: right;\n",
       "    }\n",
       "</style>\n",
       "<table border=\"1\" class=\"dataframe\">\n",
       "  <thead>\n",
       "    <tr style=\"text-align: right;\">\n",
       "      <th></th>\n",
       "      <th>r2_score</th>\n",
       "      <th>MAE</th>\n",
       "      <th>MSE</th>\n",
       "      <th>RMSE</th>\n",
       "    </tr>\n",
       "  </thead>\n",
       "  <tbody>\n",
       "    <tr>\n",
       "      <th>train</th>\n",
       "      <td>0.66</td>\n",
       "      <td>2,762.76</td>\n",
       "      <td>19,231,671.73</td>\n",
       "      <td>4,385.39</td>\n",
       "    </tr>\n",
       "    <tr>\n",
       "      <th>test</th>\n",
       "      <td>0.65</td>\n",
       "      <td>2,738.64</td>\n",
       "      <td>18,515,822.91</td>\n",
       "      <td>4,303.00</td>\n",
       "    </tr>\n",
       "  </tbody>\n",
       "</table>\n",
       "</div>"
      ],
      "text/plain": [
       "       r2_score      MAE           MSE     RMSE\n",
       "train      0.66 2,762.76 19,231,671.73 4,385.39\n",
       "test       0.65 2,738.64 18,515,822.91 4,303.00"
      ]
     },
     "execution_count": 7,
     "metadata": {},
     "output_type": "execute_result"
    }
   ],
   "source": [
    "obtener_metricas(y_train,y_pred_train,y_test,y_pred_test)"
   ]
  },
  {
   "cell_type": "markdown",
   "metadata": {},
   "source": [
    "### Como vimos anteriormente:\n",
    "- No es viable el error que tenemos ni el R2 es aceptable\n",
    "- Para solucionarlo, vamos a intentar realizar K-Fold Cross Validation\n",
    "### ¿Porque?\n",
    "- Una de las principales causas es que tenemos un conjunto de más de 100.000 datos, lo que lo hace un conjunto moderado de datos, por rendimiento y tiempo empezaremos por este"
   ]
  },
  {
   "cell_type": "code",
   "execution_count": 8,
   "metadata": {},
   "outputs": [
    {
     "data": {
      "text/plain": [
       "(334843, 10)"
      ]
     },
     "execution_count": 8,
     "metadata": {},
     "output_type": "execute_result"
    }
   ],
   "source": [
    "df.shape"
   ]
  },
  {
   "cell_type": "markdown",
   "metadata": {},
   "source": [
    "### ¿Que puedo meter en scoring?\n",
    "\n",
    "- r2\n",
    "- MAE: neg_mean_absolute_error\n",
    "- MSE: neg_mean_squared_error\n",
    "- RMSE: neg_root_mean_squared_error\n",
    "\n"
   ]
  },
  {
   "cell_type": "markdown",
   "metadata": {},
   "source": [
    "# Empecemos calculando el R2\n",
    "- En varias iteraciones veremos si mejora potencialmente\n",
    "### ¿Cuántos splits?\n",
    "- Voy a probar con 5, 50, 100, 500 y 1000, de ahí vemos la media de r2\n"
   ]
  },
  {
   "cell_type": "code",
   "execution_count": 9,
   "metadata": {},
   "outputs": [
    {
     "name": "stderr",
     "output_type": "stream",
     "text": [
      " 20%|██        | 1/5 [00:00<00:03,  1.24it/s]"
     ]
    },
    {
     "name": "stdout",
     "output_type": "stream",
     "text": [
      "r2 en 5 splits: 0.6547545572457727\n"
     ]
    },
    {
     "name": "stderr",
     "output_type": "stream",
     "text": [
      " 40%|████      | 2/5 [00:08<00:13,  4.62s/it]"
     ]
    },
    {
     "name": "stdout",
     "output_type": "stream",
     "text": [
      "r2 en 50 splits: 0.6547879023341562\n"
     ]
    },
    {
     "name": "stderr",
     "output_type": "stream",
     "text": [
      " 60%|██████    | 3/5 [00:22<00:18,  9.12s/it]"
     ]
    },
    {
     "name": "stdout",
     "output_type": "stream",
     "text": [
      "r2 en 100 splits: 0.6546626062653804\n"
     ]
    },
    {
     "name": "stderr",
     "output_type": "stream",
     "text": [
      " 80%|████████  | 4/5 [01:38<00:35, 35.55s/it]"
     ]
    },
    {
     "name": "stdout",
     "output_type": "stream",
     "text": [
      "r2 en 500 splits: 0.6544720357940187\n"
     ]
    },
    {
     "name": "stderr",
     "output_type": "stream",
     "text": [
      "100%|██████████| 5/5 [03:44<00:00, 44.98s/it]"
     ]
    },
    {
     "name": "stdout",
     "output_type": "stream",
     "text": [
      "r2 en 1000 splits: 0.6541562993612292\n"
     ]
    },
    {
     "name": "stderr",
     "output_type": "stream",
     "text": [
      "\n"
     ]
    }
   ],
   "source": [
    "splits = [5,50,100,500,1000]\n",
    "for split in tqdm(splits):\n",
    "    kf = KFold(n_splits=split,\n",
    "            shuffle=True,\n",
    "            random_state=42)\n",
    "    score_r2 = cross_val_score(modelo_lineal,\n",
    "                            X,\n",
    "                            y,\n",
    "                            cv=kf,\n",
    "                            scoring=\"r2\")\n",
    "    print(f\"r2 en {split} splits: {np.mean(score_r2)}\")"
   ]
  },
  {
   "cell_type": "markdown",
   "metadata": {},
   "source": [
    "Tarda 2 mins\n",
    "- r2 en 5 splits: 0.33618296668739367\n",
    "- r2 en 50 splits: 0.41857590248457505\n",
    "- r2 en 100 splits: 0.44196576819632055\n",
    "- r2 en 500 splits: 0.5091593582512305\n",
    "- r2 en 1000 splits: 0.5178094658590221"
   ]
  },
  {
   "cell_type": "markdown",
   "metadata": {},
   "source": [
    "Antes de tener decision, veamos el error RMSE y su evolución"
   ]
  },
  {
   "cell_type": "code",
   "execution_count": 10,
   "metadata": {},
   "outputs": [
    {
     "name": "stderr",
     "output_type": "stream",
     "text": [
      " 20%|██        | 1/5 [00:00<00:02,  1.54it/s]"
     ]
    },
    {
     "name": "stdout",
     "output_type": "stream",
     "text": [
      "Error RMSE en 5 splits: -4360.836208916828\n"
     ]
    },
    {
     "name": "stderr",
     "output_type": "stream",
     "text": [
      " 40%|████      | 2/5 [00:07<00:12,  4.05s/it]"
     ]
    },
    {
     "name": "stdout",
     "output_type": "stream",
     "text": [
      "Error RMSE en 50 splits: -4358.7988044689855\n"
     ]
    },
    {
     "name": "stderr",
     "output_type": "stream",
     "text": [
      " 60%|██████    | 3/5 [00:19<00:15,  7.72s/it]"
     ]
    },
    {
     "name": "stdout",
     "output_type": "stream",
     "text": [
      "Error RMSE en 100 splits: -4356.599553575688\n"
     ]
    },
    {
     "name": "stderr",
     "output_type": "stream",
     "text": [
      " 80%|████████  | 4/5 [01:21<00:29, 29.43s/it]"
     ]
    },
    {
     "name": "stdout",
     "output_type": "stream",
     "text": [
      "Error RMSE en 500 splits: -4339.4568148486405\n"
     ]
    },
    {
     "name": "stderr",
     "output_type": "stream",
     "text": [
      "100%|██████████| 5/5 [03:30<00:00, 42.10s/it]"
     ]
    },
    {
     "name": "stdout",
     "output_type": "stream",
     "text": [
      "Error RMSE en 1000 splits: -4319.007423640001\n"
     ]
    },
    {
     "name": "stderr",
     "output_type": "stream",
     "text": [
      "\n"
     ]
    }
   ],
   "source": [
    "splits = [5,50,100,500,1000]\n",
    "for split in tqdm(splits):\n",
    "    kf = KFold(n_splits=split,\n",
    "            shuffle=True,\n",
    "            random_state=42)\n",
    "    score_rmse = cross_val_score(modelo_lineal,\n",
    "                            X,\n",
    "                            y,\n",
    "                            cv=kf,\n",
    "                            scoring=\"neg_root_mean_squared_error\")\n",
    "    print(f\"Error RMSE en {split} splits: {np.mean(score_rmse)}\")"
   ]
  },
  {
   "cell_type": "markdown",
   "metadata": {},
   "source": [
    "Tarda 4 mins\n",
    "- Error RMSE en 5 splits: -12267.559531024217\n",
    "- Error RMSE en 50 splits: -10612.957198951419\n",
    "- Error RMSE en 100 splits: -10273.086514930843\n",
    "- Error RMSE en 500 splits: -8429.755759419888\n",
    "- Error RMSE en 1000 splits: -7765.457287420199"
   ]
  },
  {
   "cell_type": "markdown",
   "metadata": {},
   "source": [
    "# La Realidad\n",
    "- Aún generando grupos de 1000 con los datos, no somos capaces de reducir el error de forma sustancial\n",
    "- Si es verdad que el R2 crece a más grupos, y lo más probable es que siguiera creciendo\n",
    "- Por eso vemos el error RMSE, para saber si nos reduce el error\n",
    "- Y vemos que aún reduciendo el error, una media de 7765€ de error el el precio sigue siendo inaceptable"
   ]
  },
  {
   "cell_type": "markdown",
   "metadata": {},
   "source": [
    "# ¿Entonces?\n",
    "- Vamos a realizar un Decision Tree en el jupyter 07"
   ]
  }
 ],
 "metadata": {
  "kernelspec": {
   "display_name": "Python 3",
   "language": "python",
   "name": "python3"
  },
  "language_info": {
   "codemirror_mode": {
    "name": "ipython",
    "version": 3
   },
   "file_extension": ".py",
   "mimetype": "text/x-python",
   "name": "python",
   "nbconvert_exporter": "python",
   "pygments_lexer": "ipython3",
   "version": "3.11.9"
  }
 },
 "nbformat": 4,
 "nbformat_minor": 2
}
