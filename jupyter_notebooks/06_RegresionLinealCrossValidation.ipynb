{
 "cells": [
  {
   "cell_type": "markdown",
   "metadata": {},
   "source": [
    "# Laboratorio Regresión Lineal\n"
   ]
  },
  {
   "cell_type": "code",
   "execution_count": 1,
   "metadata": {},
   "outputs": [],
   "source": [
    "# Tratamiento de datos\n",
    "# -----------------------------------------------------------------------\n",
    "import pandas as pd\n",
    "import numpy as np\n",
    "\n",
    "# Visualizaciones\n",
    "# -----------------------------------------------------------------------\n",
    "import seaborn as sns\n",
    "import matplotlib.pyplot as plt\n",
    "from sklearn import tree\n",
    "\n",
    "# Para realizar la regresión lineal y la evaluación del modelo\n",
    "# -----------------------------------------------------------------------\n",
    "from sklearn.linear_model import LinearRegression\n",
    "from sklearn.tree import DecisionTreeRegressor, plot_tree\n",
    "from sklearn.ensemble import RandomForestRegressor\n",
    "from sklearn.model_selection import train_test_split,GridSearchCV\n",
    "from sklearn.metrics import r2_score, mean_squared_error, mean_absolute_error\n",
    "\n",
    "\n",
    "from sklearn.model_selection import KFold,LeaveOneOut, cross_val_score\n",
    "\n",
    "\n",
    "from sklearn.preprocessing import StandardScaler\n",
    "\n",
    "from tqdm import tqdm\n",
    "\n",
    "\n",
    "# Ignorar los warnings\n",
    "# -----------------------------------------------------------------------\n",
    "import warnings\n",
    "warnings.filterwarnings('ignore')\n",
    "\n",
    "pd.options.display.float_format = \"{:,.2f}\".format\n",
    "\n",
    "import sys\n",
    "sys.path.append(\"../../\")\n",
    "from src.soporte_metricas import (\n",
    "    obtener_metricas\n",
    ")"
   ]
  },
  {
   "cell_type": "markdown",
   "metadata": {},
   "source": [
    "# Vamos a realizar Cross Validation\n",
    "Usando el encoding Target\n",
    "- El objetivo es ver si nuestro modelo puede mejorar al realizar varias iteraciones. de la regresión Lineal."
   ]
  },
  {
   "cell_type": "code",
   "execution_count": 2,
   "metadata": {},
   "outputs": [
    {
     "data": {
      "text/html": [
       "<div>\n",
       "<style scoped>\n",
       "    .dataframe tbody tr th:only-of-type {\n",
       "        vertical-align: middle;\n",
       "    }\n",
       "\n",
       "    .dataframe tbody tr th {\n",
       "        vertical-align: top;\n",
       "    }\n",
       "\n",
       "    .dataframe thead th {\n",
       "        text-align: right;\n",
       "    }\n",
       "</style>\n",
       "<table border=\"1\" class=\"dataframe\">\n",
       "  <thead>\n",
       "    <tr style=\"text-align: right;\">\n",
       "      <th></th>\n",
       "      <th>offerType</th>\n",
       "      <th>brand</th>\n",
       "      <th>vehicleType</th>\n",
       "      <th>fuelType</th>\n",
       "      <th>gearbox</th>\n",
       "      <th>notRepairedDamage</th>\n",
       "      <th>kilometer</th>\n",
       "      <th>price</th>\n",
       "      <th>yearOfRegistration</th>\n",
       "      <th>powerCV_robust_scaler</th>\n",
       "    </tr>\n",
       "  </thead>\n",
       "  <tbody>\n",
       "    <tr>\n",
       "      <th>124868</th>\n",
       "      <td>6,065.12</td>\n",
       "      <td>2,990.11</td>\n",
       "      <td>2,840.04</td>\n",
       "      <td>5,152.20</td>\n",
       "      <td>4,824.16</td>\n",
       "      <td>7,212.17</td>\n",
       "      <td>8,664.56</td>\n",
       "      <td>950.00</td>\n",
       "      <td>1,910.74</td>\n",
       "      <td>1,631.88</td>\n",
       "    </tr>\n",
       "  </tbody>\n",
       "</table>\n",
       "</div>"
      ],
      "text/plain": [
       "        offerType    brand  vehicleType  fuelType  gearbox  notRepairedDamage  \\\n",
       "124868   6,065.12 2,990.11     2,840.04  5,152.20 4,824.16           7,212.17   \n",
       "\n",
       "        kilometer  price  yearOfRegistration  powerCV_robust_scaler  \n",
       "124868   8,664.56 950.00            1,910.74               1,631.88  "
      ]
     },
     "execution_count": 2,
     "metadata": {},
     "output_type": "execute_result"
    }
   ],
   "source": [
    "df = pd.read_csv(\"../../datos/04_Modelo4/06_autorenew_target_encoded.csv\",index_col=0)\n",
    "df.sample()"
   ]
  },
  {
   "cell_type": "code",
   "execution_count": 3,
   "metadata": {},
   "outputs": [],
   "source": [
    "X = df.drop(columns=\"price\")\n",
    "y = df[[\"price\"]]\n",
    "X_train, X_test, y_train, y_test = train_test_split(X, # Todo menos la Variable Respuesta\n",
    "                                                    y, # La variable Respuesta\n",
    "                                                    train_size=0.7, # Como dividir los datos en este caso 80% train, 20% test\n",
    "                                                    random_state=42, # Semilla, para que lo haga igual para cualquier persona\n",
    "                                                    shuffle=True \n",
    "                                                    )\n"
   ]
  },
  {
   "cell_type": "markdown",
   "metadata": {},
   "source": [
    "# Hagamos el modelo Linear y Recapitulemos"
   ]
  },
  {
   "cell_type": "code",
   "execution_count": 4,
   "metadata": {},
   "outputs": [],
   "source": [
    "modelo_lineal = LinearRegression()\n",
    "modelo_lineal.fit(X_train, y_train)\n",
    "y_pred_test = modelo_lineal.predict(X_test)\n",
    "y_pred_train = modelo_lineal.predict(X_train)"
   ]
  },
  {
   "cell_type": "markdown",
   "metadata": {},
   "source": [
    "# Veamos sus métricas"
   ]
  },
  {
   "cell_type": "code",
   "execution_count": 5,
   "metadata": {},
   "outputs": [
    {
     "data": {
      "text/html": [
       "<div>\n",
       "<style scoped>\n",
       "    .dataframe tbody tr th:only-of-type {\n",
       "        vertical-align: middle;\n",
       "    }\n",
       "\n",
       "    .dataframe tbody tr th {\n",
       "        vertical-align: top;\n",
       "    }\n",
       "\n",
       "    .dataframe thead th {\n",
       "        text-align: right;\n",
       "    }\n",
       "</style>\n",
       "<table border=\"1\" class=\"dataframe\">\n",
       "  <thead>\n",
       "    <tr style=\"text-align: right;\">\n",
       "      <th></th>\n",
       "      <th>r2_score</th>\n",
       "      <th>MAE</th>\n",
       "      <th>MSE</th>\n",
       "      <th>RMSE</th>\n",
       "    </tr>\n",
       "  </thead>\n",
       "  <tbody>\n",
       "    <tr>\n",
       "      <th>train</th>\n",
       "      <td>0.24</td>\n",
       "      <td>3,134.71</td>\n",
       "      <td>166,044,677.48</td>\n",
       "      <td>12,885.83</td>\n",
       "    </tr>\n",
       "    <tr>\n",
       "      <th>test</th>\n",
       "      <td>0.33</td>\n",
       "      <td>3,113.28</td>\n",
       "      <td>98,421,486.38</td>\n",
       "      <td>9,920.76</td>\n",
       "    </tr>\n",
       "  </tbody>\n",
       "</table>\n",
       "</div>"
      ],
      "text/plain": [
       "       r2_score      MAE            MSE      RMSE\n",
       "train      0.24 3,134.71 166,044,677.48 12,885.83\n",
       "test       0.33 3,113.28  98,421,486.38  9,920.76"
      ]
     },
     "execution_count": 5,
     "metadata": {},
     "output_type": "execute_result"
    }
   ],
   "source": [
    "obtener_metricas(y_train,y_pred_train,y_test,y_pred_test)"
   ]
  },
  {
   "cell_type": "markdown",
   "metadata": {},
   "source": [
    "### Como vimos anteriormente:\n",
    "- No es viable el error que tenemos ni el R2 es aceptable\n",
    "- Para solucionarlo, vamos a intentar realizar K-Fold Cross Validation\n",
    "### ¿Porque?\n",
    "- Una de las principales causas es que tenemos un conjunto de más de 100.000 datos, lo que lo hace un conjunto moderado de datos, por rendimiento y tiempo empezaremos por este"
   ]
  },
  {
   "cell_type": "code",
   "execution_count": 6,
   "metadata": {},
   "outputs": [
    {
     "data": {
      "text/plain": [
       "(356472, 10)"
      ]
     },
     "execution_count": 6,
     "metadata": {},
     "output_type": "execute_result"
    }
   ],
   "source": [
    "df.shape"
   ]
  },
  {
   "cell_type": "markdown",
   "metadata": {},
   "source": [
    "### ¿Que puedo meter en scoring?\n",
    "\n",
    "- r2\n",
    "- MAE: neg_mean_absolute_error\n",
    "- MSE: neg_mean_squared_error\n",
    "- RMSE: neg_root_mean_squared_error\n",
    "\n"
   ]
  },
  {
   "cell_type": "markdown",
   "metadata": {},
   "source": [
    "# Empecemos calculando el R2\n",
    "- En varias iteraciones veremos si mejora potencialmente\n",
    "### ¿Cuántos splits?\n",
    "- Voy a probar con 5, 50, 100, 500 y 1000, de ahí vemos la media de r2\n"
   ]
  },
  {
   "cell_type": "code",
   "execution_count": 7,
   "metadata": {},
   "outputs": [
    {
     "name": "stderr",
     "output_type": "stream",
     "text": [
      " 20%|██        | 1/5 [00:00<00:01,  2.41it/s]"
     ]
    },
    {
     "name": "stdout",
     "output_type": "stream",
     "text": [
      "r2 en 5 splits: 0.27783271058462944\n"
     ]
    },
    {
     "name": "stderr",
     "output_type": "stream",
     "text": [
      " 40%|████      | 2/5 [00:04<00:08,  2.80s/it]"
     ]
    },
    {
     "name": "stdout",
     "output_type": "stream",
     "text": [
      "r2 en 50 splits: 0.3973450216173445\n"
     ]
    },
    {
     "name": "stderr",
     "output_type": "stream",
     "text": [
      " 60%|██████    | 3/5 [00:14<00:11,  5.80s/it]"
     ]
    },
    {
     "name": "stdout",
     "output_type": "stream",
     "text": [
      "r2 en 100 splits: 0.4486929943634437\n"
     ]
    },
    {
     "name": "stderr",
     "output_type": "stream",
     "text": [
      " 80%|████████  | 4/5 [01:04<00:23, 23.40s/it]"
     ]
    },
    {
     "name": "stdout",
     "output_type": "stream",
     "text": [
      "r2 en 500 splits: 0.537109177092594\n"
     ]
    },
    {
     "name": "stderr",
     "output_type": "stream",
     "text": [
      "100%|██████████| 5/5 [02:38<00:00, 31.80s/it]"
     ]
    },
    {
     "name": "stdout",
     "output_type": "stream",
     "text": [
      "r2 en 1000 splits: 0.5594964903539597\n"
     ]
    },
    {
     "name": "stderr",
     "output_type": "stream",
     "text": [
      "\n"
     ]
    }
   ],
   "source": [
    "splits = [5,50,100,500,1000]\n",
    "for split in tqdm(splits):\n",
    "    kf = KFold(n_splits=split,\n",
    "            shuffle=True,\n",
    "            random_state=42)\n",
    "    score_r2 = cross_val_score(modelo_lineal,\n",
    "                            X,\n",
    "                            y,\n",
    "                            cv=kf,\n",
    "                            scoring=\"r2\")\n",
    "    print(f\"r2 en {split} splits: {np.mean(score_r2)}\")"
   ]
  },
  {
   "cell_type": "markdown",
   "metadata": {},
   "source": [
    "Tarda 2 mins\n",
    "- r2 en 5 splits: 0.33618296668739367\n",
    "- r2 en 50 splits: 0.41857590248457505\n",
    "- r2 en 100 splits: 0.44196576819632055\n",
    "- r2 en 500 splits: 0.5091593582512305\n",
    "- r2 en 1000 splits: 0.5178094658590221"
   ]
  },
  {
   "cell_type": "markdown",
   "metadata": {},
   "source": [
    "Antes de tener decision, veamos el error RMSE y su evolución"
   ]
  },
  {
   "cell_type": "code",
   "execution_count": 8,
   "metadata": {},
   "outputs": [
    {
     "name": "stderr",
     "output_type": "stream",
     "text": [
      " 20%|██        | 1/5 [00:00<00:02,  1.99it/s]"
     ]
    },
    {
     "name": "stdout",
     "output_type": "stream",
     "text": [
      "Error RMSE en 5 splits: -11866.264578887092\n"
     ]
    },
    {
     "name": "stderr",
     "output_type": "stream",
     "text": [
      " 40%|████      | 2/5 [00:05<00:08,  3.00s/it]"
     ]
    },
    {
     "name": "stdout",
     "output_type": "stream",
     "text": [
      "Error RMSE en 50 splits: -10233.310652850741\n"
     ]
    },
    {
     "name": "stderr",
     "output_type": "stream",
     "text": [
      " 60%|██████    | 3/5 [00:14<00:11,  5.86s/it]"
     ]
    },
    {
     "name": "stdout",
     "output_type": "stream",
     "text": [
      "Error RMSE en 100 splits: -9472.958930290763\n"
     ]
    },
    {
     "name": "stderr",
     "output_type": "stream",
     "text": [
      " 80%|████████  | 4/5 [01:00<00:21, 21.76s/it]"
     ]
    },
    {
     "name": "stdout",
     "output_type": "stream",
     "text": [
      "Error RMSE en 500 splits: -7789.712426972162\n"
     ]
    },
    {
     "name": "stderr",
     "output_type": "stream",
     "text": [
      "100%|██████████| 5/5 [02:34<00:00, 30.82s/it]"
     ]
    },
    {
     "name": "stdout",
     "output_type": "stream",
     "text": [
      "Error RMSE en 1000 splits: -7129.749957170835\n"
     ]
    },
    {
     "name": "stderr",
     "output_type": "stream",
     "text": [
      "\n"
     ]
    }
   ],
   "source": [
    "splits = [5,50,100,500,1000]\n",
    "for split in tqdm(splits):\n",
    "    kf = KFold(n_splits=split,\n",
    "            shuffle=True,\n",
    "            random_state=42)\n",
    "    score_rmse = cross_val_score(modelo_lineal,\n",
    "                            X,\n",
    "                            y,\n",
    "                            cv=kf,\n",
    "                            scoring=\"neg_root_mean_squared_error\")\n",
    "    print(f\"Error RMSE en {split} splits: {np.mean(score_rmse)}\")"
   ]
  },
  {
   "cell_type": "markdown",
   "metadata": {},
   "source": [
    "Tarda 4 mins\n",
    "- Error RMSE en 5 splits: -12267.559531024217\n",
    "- Error RMSE en 50 splits: -10612.957198951419\n",
    "- Error RMSE en 100 splits: -10273.086514930843\n",
    "- Error RMSE en 500 splits: -8429.755759419888\n",
    "- Error RMSE en 1000 splits: -7765.457287420199"
   ]
  },
  {
   "cell_type": "markdown",
   "metadata": {},
   "source": [
    "# La Realidad\n",
    "- Aún generando grupos de 1000 con los datos, no somos capaces de reducir el error de forma sustancial\n",
    "- Si es verdad que el R2 crece a más grupos, y lo más probable es que siguiera creciendo\n",
    "- Por eso vemos el error RMSE, para saber si nos reduce el error\n",
    "- Y vemos que aún reduciendo el error, una media de 7765€ de error el el precio sigue siendo inaceptable"
   ]
  },
  {
   "cell_type": "markdown",
   "metadata": {},
   "source": [
    "# ¿Entonces?\n",
    "- Vamos a realizar un Decision Tree en el jupyter 07"
   ]
  }
 ],
 "metadata": {
  "kernelspec": {
   "display_name": "Python 3",
   "language": "python",
   "name": "python3"
  },
  "language_info": {
   "codemirror_mode": {
    "name": "ipython",
    "version": 3
   },
   "file_extension": ".py",
   "mimetype": "text/x-python",
   "name": "python",
   "nbconvert_exporter": "python",
   "pygments_lexer": "ipython3",
   "version": "3.11.9"
  }
 },
 "nbformat": 4,
 "nbformat_minor": 2
}
